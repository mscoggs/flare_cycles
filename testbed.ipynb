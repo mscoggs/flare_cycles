{
 "cells": [
  {
   "cell_type": "code",
   "execution_count": 1,
   "metadata": {},
   "outputs": [
    {
     "name": "stderr",
     "output_type": "stream",
     "text": [
      "/Users/scoggim/anaconda3/lib/python3.6/site-packages/matplotlib/font_manager.py:280: UserWarning: Matplotlib is building the font cache using fc-list. This may take a moment.\n",
      "  'Matplotlib is building the font cache using fc-list. '\n"
     ]
    }
   ],
   "source": [
    "%matplotlib inline\n",
    "\n",
    "import numpy as np\n",
    "import pandas as pd\n",
    "import matplotlib.pyplot as plt"
   ]
  },
  {
   "cell_type": "code",
   "execution_count": 8,
   "metadata": {},
   "outputs": [],
   "source": [
    "file = \"004349043/kplr004349043-2009259160929_llc.fits.flare\"\n",
    "# df = pd.read_table?"
   ]
  },
  {
   "cell_type": "code",
   "execution_count": 10,
   "metadata": {
    "collapsed": true
   },
   "outputs": [],
   "source": [
    "df = pd.read_table(file, comment=\"#\", delimiter=\",\", \n",
    "                   names=(\"t_start\", \"t_stop\", \"t_peak\", \"amplitude\", \"FWHM\", \"duration\", \"t_peak_aflare1\", \n",
    "                          \"t_FWHM_aflare1\", \"amplitude_aflare1\", \"flare_chisq\", \"KS_d_model\", \"KS_p_model\", \n",
    "                          \"KS_d_cont\", \"KS_p_cont\", \"Equiv_Dur\", \"ED68i\", \"ED90i\"))\n",
    "\n"
   ]
  },
  {
   "cell_type": "code",
   "execution_count": 13,
   "metadata": {},
   "outputs": [
    {
     "name": "stdout",
     "output_type": "stream",
     "text": [
      "2\n"
     ]
    }
   ],
   "source": [
    "print(x)"
   ]
  },
  {
   "cell_type": "code",
   "execution_count": 17,
   "metadata": {},
   "outputs": [
    {
     "data": {
      "text/plain": [
       "0     169.622867\n",
       "1     170.583269\n",
       "2     172.728846\n",
       "3     173.239697\n",
       "4     173.382735\n",
       "5     173.873152\n",
       "6     174.527041\n",
       "7     177.898651\n",
       "8     178.409500\n",
       "9     179.267727\n",
       "10    186.194821\n",
       "11    191.364577\n",
       "12    193.755327\n",
       "13    194.266171\n",
       "14    194.633978\n",
       "15    196.064338\n",
       "16    196.350410\n",
       "17    200.130639\n",
       "18    204.339963\n",
       "19    204.789502\n",
       "20    206.056383\n",
       "21    207.078060\n",
       "22    208.365372\n",
       "23    211.450829\n",
       "24    211.839065\n",
       "25    212.186433\n",
       "26    216.211817\n",
       "27    216.845252\n",
       "28    217.437820\n",
       "29    218.112121\n",
       "30    224.712081\n",
       "31    226.060676\n",
       "32    228.635262\n",
       "33    229.105225\n",
       "34    231.802405\n",
       "35    233.334891\n",
       "36    234.009184\n",
       "37    235.929897\n",
       "38    236.726787\n",
       "39    240.200408\n",
       "40    241.262926\n",
       "41    241.610287\n",
       "42    241.998515\n",
       "43    243.592289\n",
       "44    244.900000\n",
       "45    245.247361\n",
       "46    246.943297\n",
       "47    249.333950\n",
       "48    250.437328\n",
       "49    252.194557\n",
       "50    252.562349\n",
       "51    253.134470\n",
       "52    253.257067\n",
       "53    254.340009\n",
       "54    254.850831\n",
       "55    256.751086\n",
       "56    256.914548\n",
       "57    257.016712\n",
       "Name: t_start, dtype: float64"
      ]
     },
     "execution_count": 17,
     "metadata": {},
     "output_type": "execute_result"
    }
   ],
   "source": [
    "df['t_start']"
   ]
  },
  {
   "cell_type": "code",
   "execution_count": 18,
   "metadata": {},
   "outputs": [
    {
     "data": {
      "text/plain": [
       "[<matplotlib.lines.Line2D at 0x104c3e6a0>]"
      ]
     },
     "execution_count": 18,
     "metadata": {},
     "output_type": "execute_result"
    },
    {
     "data": {
      "image/png": "[encoded data removed]",
      "text/plain": [
       "<matplotlib.figure.Figure at 0x10b404c50>"
      ]
     },
     "metadata": {},
     "output_type": "display_data"
    }
   ],
   "source": [
    "plt.plot(df['t_start'], df['t_stop'])"
   ]
  },
  {
   "cell_type": "code",
   "execution_count": null,
   "metadata": {
    "collapsed": true
   },
   "outputs": [],
   "source": []
  }
 ],
 "metadata": {
  "kernelspec": {
   "display_name": "Python 3",
   "language": "python",
   "name": "python3"
  },
  "language_info": {
   "codemirror_mode": {
    "name": "ipython",
    "version": 3
   },
   "file_extension": ".py",
   "mimetype": "text/x-python",
   "name": "python",
   "nbconvert_exporter": "python",
   "pygments_lexer": "ipython3",
   "version": "3.6.2"
  }
 },
 "nbformat": 4,
 "nbformat_minor": 2
}
