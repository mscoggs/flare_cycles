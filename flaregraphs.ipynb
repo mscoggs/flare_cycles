{
 "cells": [
  {
   "cell_type": "code",
   "execution_count": 3,
   "metadata": {
    "collapsed": true
   },
   "outputs": [],
   "source": [
    "%matplotlib inline\n",
    "\n",
    "import numpy as np\n",
    "import pandas as pd\n",
    "import matplotlib.pyplot as plt\n",
    "\n",
    "file = \"004349043/kplr004349043-2009259160929_llc.fits.flare\"\n",
    "filefake = \"004349043/kplr004349043-2009259160929_llc.fits.fake\"\n",
    "\n",
    "df = pd.read_table(file, comment=\"#\", delimiter=\",\", \n",
    "                   names=(\"t_start\", \"t_stop\", \"t_peak\", \"amplitude\", \"FWHM\", \"duration\", \"t_peak_aflare1\", \n",
    "                          \"t_FWHM_aflare1\", \"amplitude_aflare1\", \"flare_chisq\", \"KS_d_model\", \"KS_p_model\", \n",
    "                          \"KS_d_cont\", \"KS_p_cont\", \"Equiv_Dur\", \"ED68i\", \"ED90i\"))\n",
    "\n",
    "dffake = pd.read_table(filefake, comment=\"#\", delimiter=\",\", \n",
    "                   names=(\"t_start\", \"t_stop\", \"t_peak\", \"amplitude\", \"FWHM\", \"duration\", \"t_peak_aflare1\", \n",
    "                          \"t_FWHM_aflare1\", \"amplitude_aflare1\", \"flare_chisq\", \"KS_d_model\", \"KS_p_model\", \n",
    "                          \"KS_d_cont\", \"KS_p_cont\", \"Equiv_Dur\", \"ED68i\", \"ED90i\"))\n"
   ]
  },
  {
   "cell_type": "code",
   "execution_count": 26,
   "metadata": {},
   "outputs": [
    {
     "data": {
      "text/plain": [
       "array([  1,   2,   3,   4,   5,   6,   7,   8,   9,  10,  11,  12,  13,\n",
       "        14,  15,  16,  17,  18,  19,  20,  21,  22,  23,  24,  25,  26,\n",
       "        27,  28,  29,  30,  31,  32,  33,  34,  35,  36,  37,  38,  39,\n",
       "        40,  41,  42,  43,  44,  45,  46,  47,  48,  49,  50,  51,  52,\n",
       "        53,  54,  55,  56,  57,  58,  59,  60,  61,  62,  63,  64,  65,\n",
       "        66,  67,  68,  69,  70,  71,  72,  73,  74,  75,  76,  77,  78,\n",
       "        79,  80,  81,  82,  83,  84,  85,  86,  87,  88,  89,  90,  91,\n",
       "        92,  93,  94,  95,  96,  97,  98,  99, 100])"
      ]
     },
     "execution_count": 26,
     "metadata": {},
     "output_type": "execute_result"
    },
    {
     "data": {
      "image/png": "[encoded data removed]",
      "text/plain": [
       "<matplotlib.figure.Figure at 0x1f2de4afe10>"
      ]
     },
     "metadata": {},
     "output_type": "display_data"
    }
   ],
   "source": [
    "Nflare = 100\n",
    "energy = 10**np.random.random(Nflare)\n",
    "sort = np.argsort(energy)\n",
    "# energy[sort]\n",
    "ffd_x = np.log10(energy[sort][::-1])\n",
    "ffd_y = (np.arange(1, len(ffd_x)+1, 1))\n",
    "\n",
    "#DO THIS\n",
    "plt.plot(ffd_x, ffd_y)\n",
    "plt.xscale('log')\n",
    "# plt.yscale('log')\n",
    "plt.xlabel('log flare energy (units)')\n",
    "plt.ylabel('Cumulative Frequency')\n",
    "plt.xlim(.1,1)\n",
    "ffd_y"
   ]
  },
  {
   "cell_type": "code",
   "execution_count": 19,
   "metadata": {},
   "outputs": [
    {
     "name": "stdout",
     "output_type": "stream",
     "text": [
      "[99 98 97 96 95 94 93 92 91 90 89 88 87 86 85 84 83 82 81 80 79 78 77 76 75\n",
      " 74 73 72 71 70 69 68 67 66 65 64 63 62 61 60 59 58 57 56 55 54 53 52 51 50]\n"
     ]
    },
    {
     "data": {
      "text/plain": [
       "[<matplotlib.lines.Line2D at 0x1f2dcfb3a58>]"
      ]
     },
     "execution_count": 19,
     "metadata": {},
     "output_type": "execute_result"
    },
    {
     "data": {
      "image/png": "[encoded data removed]",
      "text/plain": [
       "<matplotlib.figure.Figure at 0x1f2dcf2deb8>"
      ]
     },
     "metadata": {},
     "output_type": "display_data"
    }
   ],
   "source": [
    "#some misc examples\n",
    "#y = np.arange(50,100,1) ** 2\n",
    "#plt.plot(y, np.cumsum(y))\n",
    "\n",
    "\n",
    "\n",
    "x = np.arange(50, 100, 1)\n",
    "print(x[::-1]) # how to quickly reverse an array, very pythonic\n",
    "\n",
    "\n",
    "\n",
    "#plt.plot(np.cumsum(x)/sum(x), label='x')\n",
    "#plt.plot(np.cumsum(y)/sum(y), label='y')\n",
    "#plt.legend()\n",
    "\n",
    "\n",
    "\n",
    "# a reverse cumulative distribution\n",
    "plt.plot(x[::-1], np.cumsum(x[::-1]) / sum(x))\n",
    "\n",
    "\n",
    "\n",
    "#plt.plot(df['t_start'], df['amplitude'])\n",
    "\n",
    "\n",
    "# event = np.arange(0, len(x), 1)\n",
    "# print(event)\n",
    "# plt.plot(x[::-1], event)\n",
    "# plt.plot(x[::-1], np.cumsum(event), '-o' )\n",
    "# plt.yscale('log')\n",
    "# plt.xscale('log')\n"
   ]
  }
 ],
 "metadata": {
  "kernelspec": {
   "display_name": "Python 3",
   "language": "python",
   "name": "python3"
  },
  "language_info": {
   "codemirror_mode": {
    "name": "ipython",
    "version": 3
   },
   "file_extension": ".py",
   "mimetype": "text/x-python",
   "name": "python",
   "nbconvert_exporter": "python",
   "pygments_lexer": "ipython3",
   "version": "3.6.3"
  }
 },
 "nbformat": 4,
 "nbformat_minor": 2
}
